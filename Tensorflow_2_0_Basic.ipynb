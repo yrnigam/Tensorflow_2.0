{
  "nbformat": 4,
  "nbformat_minor": 0,
  "metadata": {
    "colab": {
      "name": "Tensorflow 2.0 Basic",
      "provenance": []
    },
    "kernelspec": {
      "name": "python3",
      "display_name": "Python 3"
    }
  },
  "cells": [
    {
      "cell_type": "markdown",
      "metadata": {
        "colab_type": "text",
        "id": "z1JcS5iBXMRO"
      },
      "source": [
        "## Import TensorFlow\n",
        "\n",
        "To get started, import the `tensorflow` module. As of TensorFlow 2, eager execution is turned on by default. This enables a more interactive frontend to TensorFlow, the details of which we will discuss much later."
      ]
    },
    {
      "cell_type": "code",
      "metadata": {
        "id": "rtEabH8WqTAm",
        "colab_type": "code",
        "colab": {}
      },
      "source": [
        "import tensorflow as tf"
      ],
      "execution_count": 0,
      "outputs": []
    },
    {
      "cell_type": "markdown",
      "metadata": {
        "id": "Ie8sXTulvgJr",
        "colab_type": "text"
      },
      "source": [
        "##Version Check"
      ]
    },
    {
      "cell_type": "code",
      "metadata": {
        "id": "gr3kPXnZvk1H",
        "colab_type": "code",
        "outputId": "98ee36cf-b71f-4de5-eab2-1b52b093451a",
        "colab": {
          "base_uri": "https://localhost:8080/",
          "height": 34
        }
      },
      "source": [
        "#rc- Release Candidate\n",
        "print(tf.__version__)"
      ],
      "execution_count": 0,
      "outputs": [
        {
          "output_type": "stream",
          "text": [
            "2.2.0-rc3\n"
          ],
          "name": "stdout"
        }
      ]
    },
    {
      "cell_type": "markdown",
      "metadata": {
        "colab_type": "text",
        "id": "H9UySOPLXdaw"
      },
      "source": [
        "## Tensors in 2.0\n",
        "\n",
        "A Tensor is a multi-dimensional array. Similar to NumPy `ndarray` objects, `tf.Tensor` objects have a data type and a shape. Additionally, `tf.Tensor`s can reside in accelerator memory (like a GPU). TensorFlow offers a rich library of operations ([tf.add](https://www.tensorflow.org/api_docs/python/tf/add), [tf.matmul](https://www.tensorflow.org/api_docs/python/tf/matmul), [tf.linalg.inv](https://www.tensorflow.org/api_docs/python/tf/linalg/inv) etc.) that consume and produce `tf.Tensor`s. These operations automatically convert native Python types, for example:\n"
      ]
    },
    {
      "cell_type": "code",
      "metadata": {
        "id": "BMXIfn3MvWhb",
        "colab_type": "code",
        "outputId": "0742a06b-c207-47ab-df96-dcc881bddcc5",
        "colab": {
          "base_uri": "https://localhost:8080/",
          "height": 34
        }
      },
      "source": [
        "# Hello Wrold \n",
        "msg = tf.constant('TensorFlow 2.0 Hello World')\n",
        "tf.print(msg)"
      ],
      "execution_count": 0,
      "outputs": [
        {
          "output_type": "stream",
          "text": [
            "TensorFlow 2.0 Hello World\n"
          ],
          "name": "stdout"
        }
      ]
    },
    {
      "cell_type": "code",
      "metadata": {
        "id": "71zunMeVrQRy",
        "colab_type": "code",
        "outputId": "5c53de52-bb09-468a-be9e-974eec452861",
        "colab": {
          "base_uri": "https://localhost:8080/",
          "height": 34
        }
      },
      "source": [
        "#Adding wo numbers\n",
        "print(tf.add(1, 2))"
      ],
      "execution_count": 0,
      "outputs": [
        {
          "output_type": "stream",
          "text": [
            "tf.Tensor(3, shape=(), dtype=int32)\n"
          ],
          "name": "stdout"
        }
      ]
    },
    {
      "cell_type": "code",
      "metadata": {
        "id": "TKnrc49-r-i9",
        "colab_type": "code",
        "outputId": "d5d4d85a-fcf4-4e1a-e3a3-c0b66e46c600",
        "colab": {
          "base_uri": "https://localhost:8080/",
          "height": 34
        }
      },
      "source": [
        "#Vector Sum\n",
        "print(tf.add([1.0, 2.0], [3, 4]))"
      ],
      "execution_count": 0,
      "outputs": [
        {
          "output_type": "stream",
          "text": [
            "tf.Tensor([4. 6.], shape=(2,), dtype=float32)\n"
          ],
          "name": "stdout"
        }
      ]
    },
    {
      "cell_type": "code",
      "metadata": {
        "id": "g0apAOq3sDy0",
        "colab_type": "code",
        "outputId": "9e4858d7-8300-46e8-ff5b-35442cb71901",
        "colab": {
          "base_uri": "https://localhost:8080/",
          "height": 34
        }
      },
      "source": [
        "#Sum of squares\n",
        "print(tf.square(5))"
      ],
      "execution_count": 0,
      "outputs": [
        {
          "output_type": "stream",
          "text": [
            "tf.Tensor(25, shape=(), dtype=int32)\n"
          ],
          "name": "stdout"
        }
      ]
    },
    {
      "cell_type": "code",
      "metadata": {
        "id": "saoAHwLnsFD7",
        "colab_type": "code",
        "outputId": "ccd2fef7-2c7b-406b-884f-6af733762698",
        "colab": {
          "base_uri": "https://localhost:8080/",
          "height": 34
        }
      },
      "source": [
        "#Computing the sum of elements across dimensions of a tensor.\n",
        "print(tf.reduce_sum([1, 2, 3]))"
      ],
      "execution_count": 0,
      "outputs": [
        {
          "output_type": "stream",
          "text": [
            "tf.Tensor(6, shape=(), dtype=int32)\n"
          ],
          "name": "stdout"
        }
      ]
    },
    {
      "cell_type": "code",
      "metadata": {
        "id": "Bc-FvqaxwHBm",
        "colab_type": "code",
        "outputId": "5b4c87bf-3b41-4cdb-81e1-19142a775309",
        "colab": {
          "base_uri": "https://localhost:8080/",
          "height": 84
        }
      },
      "source": [
        "#Seprate Sum\n",
        "a = tf.constant([1, 2])\n",
        "b = tf.constant([3, 4])\n",
        "print(a + b)\n",
        "print(a - b)\n",
        "print(a * b)\n",
        "print(a / b)"
      ],
      "execution_count": 0,
      "outputs": [
        {
          "output_type": "stream",
          "text": [
            "tf.Tensor([4 6], shape=(2,), dtype=int32)\n",
            "tf.Tensor([-2 -2], shape=(2,), dtype=int32)\n",
            "tf.Tensor([3 8], shape=(2,), dtype=int32)\n",
            "tf.Tensor([0.33333333 0.5       ], shape=(2,), dtype=float64)\n"
          ],
          "name": "stdout"
        }
      ]
    },
    {
      "cell_type": "code",
      "metadata": {
        "id": "MPIEXmXbsHsz",
        "colab_type": "code",
        "outputId": "a3ac88dc-3b70-4c45-ff27-0ef3c096e6b7",
        "colab": {
          "base_uri": "https://localhost:8080/",
          "height": 34
        }
      },
      "source": [
        "# Operator overloading is also supported\n",
        "print(tf.square(2) + tf.square(3))"
      ],
      "execution_count": 0,
      "outputs": [
        {
          "output_type": "stream",
          "text": [
            "tf.Tensor(13, shape=(), dtype=int32)\n"
          ],
          "name": "stdout"
        }
      ]
    },
    {
      "cell_type": "markdown",
      "metadata": {
        "colab_type": "text",
        "id": "IDY4WsYRhP81"
      },
      "source": [
        "Each `tf.Tensor` has a shape and a datatype:"
      ]
    },
    {
      "cell_type": "code",
      "metadata": {
        "id": "V093JE79sNvS",
        "colab_type": "code",
        "outputId": "e42f3ac6-0572-4fcb-d2d5-bbf23f0ab62a",
        "colab": {
          "base_uri": "https://localhost:8080/",
          "height": 34
        }
      },
      "source": [
        "#Matrix Multiplication\n",
        "x = tf.matmul([[1]], [[2, 3]])\n",
        "print(x)"
      ],
      "execution_count": 0,
      "outputs": [
        {
          "output_type": "stream",
          "text": [
            "tf.Tensor([[2 3]], shape=(1, 2), dtype=int32)\n"
          ],
          "name": "stdout"
        }
      ]
    },
    {
      "cell_type": "code",
      "metadata": {
        "id": "tcXpD799xhJS",
        "colab_type": "code",
        "outputId": "0a8b0433-68b4-4c44-f070-3092978ebb00",
        "colab": {
          "base_uri": "https://localhost:8080/",
          "height": 34
        }
      },
      "source": [
        "#Shape of matrix\n",
        "print(x.shape)"
      ],
      "execution_count": 0,
      "outputs": [
        {
          "output_type": "stream",
          "text": [
            "(1, 2)\n"
          ],
          "name": "stdout"
        }
      ]
    },
    {
      "cell_type": "code",
      "metadata": {
        "id": "Igh_X7Auximg",
        "colab_type": "code",
        "outputId": "c1ddaaef-fab6-4fc2-cedc-9a4a4d0d759a",
        "colab": {
          "base_uri": "https://localhost:8080/",
          "height": 34
        }
      },
      "source": [
        "#Checking datatype of matrix\n",
        "print(x.dtype)"
      ],
      "execution_count": 0,
      "outputs": [
        {
          "output_type": "stream",
          "text": [
            "<dtype: 'int32'>\n"
          ],
          "name": "stdout"
        }
      ]
    },
    {
      "cell_type": "markdown",
      "metadata": {
        "colab_type": "text",
        "id": "eBPw8e8vrsom"
      },
      "source": [
        "The most obvious differences between NumPy arrays and `tf.Tensor`s are:\n",
        "\n",
        "1. Tensors can be backed by accelerator memory (like GPU, TPU).\n",
        "2. Tensors are immutable."
      ]
    }
  ]
}