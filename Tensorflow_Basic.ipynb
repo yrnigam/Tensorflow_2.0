{
  "nbformat": 4,
  "nbformat_minor": 0,
  "metadata": {
    "colab": {
      "name": "Tensorflow Basic",
      "provenance": []
    },
    "kernelspec": {
      "name": "python3",
      "display_name": "Python 3"
    }
  },
  "cells": [
    {
      "cell_type": "code",
      "metadata": {
        "id": "lTbhwMKm0vaB",
        "colab_type": "code",
        "colab": {}
      },
      "source": [
        "!pip install tensorflow==1.15.0"
      ],
      "execution_count": 0,
      "outputs": []
    },
    {
      "cell_type": "markdown",
      "metadata": {
        "id": "tSHAIwuDp65S",
        "colab_type": "text"
      },
      "source": [
        ""
      ]
    },
    {
      "cell_type": "code",
      "metadata": {
        "id": "uROainsmip_Y",
        "colab_type": "code",
        "outputId": "eb2abb21-f724-46dc-9487-844435c8a638",
        "colab": {
          "base_uri": "https://localhost:8080/",
          "height": 62
        }
      },
      "source": [
        "#Importing TF\n",
        "import tensorflow as tf"
      ],
      "execution_count": 0,
      "outputs": [
        {
          "output_type": "display_data",
          "data": {
            "text/html": [
              "<p style=\"color: red;\">\n",
              "The default version of TensorFlow in Colab will switch to TensorFlow 2.x on the 27th of March, 2020.<br>\n",
              "We recommend you <a href=\"https://www.tensorflow.org/guide/migrate\" target=\"_blank\">upgrade</a> now\n",
              "or ensure your notebook will continue to use TensorFlow 1.x via the <code>%tensorflow_version 1.x</code> magic:\n",
              "<a href=\"https://colab.research.google.com/notebooks/tensorflow_version.ipynb\" target=\"_blank\">more info</a>.</p>\n"
            ],
            "text/plain": [
              "<IPython.core.display.HTML object>"
            ]
          },
          "metadata": {
            "tags": []
          }
        }
      ]
    },
    {
      "cell_type": "code",
      "metadata": {
        "id": "sUGIcn1p4i-o",
        "colab_type": "code",
        "colab": {}
      },
      "source": [
        "tf.disable_v2_behavior()"
      ],
      "execution_count": 0,
      "outputs": []
    },
    {
      "cell_type": "code",
      "metadata": {
        "id": "2Y0jo6WKcDPa",
        "colab_type": "code",
        "colab": {}
      },
      "source": [
        "#Types of data\n",
        "\n",
        "#Constant\n",
        "#Placeholder\n",
        "#Variable"
      ],
      "execution_count": 0,
      "outputs": []
    },
    {
      "cell_type": "code",
      "metadata": {
        "id": "eZ6uUIotcNl0",
        "colab_type": "code",
        "colab": {}
      },
      "source": [
        "#Creating fist tensor\n",
        "hello_constant=tf.constant(\"Hello World\")"
      ],
      "execution_count": 0,
      "outputs": []
    },
    {
      "cell_type": "code",
      "metadata": {
        "id": "43rGibC3cd0L",
        "colab_type": "code",
        "outputId": "d3669381-32c7-41d2-a223-e1c9e26dae33",
        "colab": {
          "base_uri": "https://localhost:8080/",
          "height": 34
        }
      },
      "source": [
        "hello_constant"
      ],
      "execution_count": 0,
      "outputs": [
        {
          "output_type": "execute_result",
          "data": {
            "text/plain": [
              "<tf.Tensor 'Const:0' shape=() dtype=string>"
            ]
          },
          "metadata": {
            "tags": []
          },
          "execution_count": 11
        }
      ]
    },
    {
      "cell_type": "markdown",
      "metadata": {
        "id": "3vE03Wx0cmjK",
        "colab_type": "text"
      },
      "source": [
        "# Tensorflow Session"
      ]
    },
    {
      "cell_type": "code",
      "metadata": {
        "id": "oWtlb2bGco2A",
        "colab_type": "code",
        "outputId": "d8236fd5-f0b0-494b-c503-a0da83ada37d",
        "colab": {
          "base_uri": "https://localhost:8080/",
          "height": 34
        }
      },
      "source": [
        "with tf.Session() as sess:\n",
        "  out=sess.run(hello_constant) #decode\n",
        "  print(out)"
      ],
      "execution_count": 0,
      "outputs": [
        {
          "output_type": "stream",
          "text": [
            "b'Hello World'\n"
          ],
          "name": "stdout"
        }
      ]
    },
    {
      "cell_type": "markdown",
      "metadata": {
        "id": "pQwMblcYiR51",
        "colab_type": "text"
      },
      "source": [
        "#Constant"
      ]
    },
    {
      "cell_type": "code",
      "metadata": {
        "id": "XOeM6cvJdalX",
        "colab_type": "code",
        "outputId": "22dcb9d7-4548-44c4-a1db-03f2c9e5df75",
        "colab": {
          "base_uri": "https://localhost:8080/",
          "height": 54
        }
      },
      "source": [
        "node1= tf.constant(3.0,tf.float32)\n",
        "node2= tf.constant(4.0) #Deafult 32\n",
        "print(node1,node2)"
      ],
      "execution_count": 0,
      "outputs": [
        {
          "output_type": "stream",
          "text": [
            "Tensor(\"Const_1:0\", shape=(), dtype=float32) Tensor(\"Const_2:0\", shape=(), dtype=float32)\n"
          ],
          "name": "stdout"
        }
      ]
    },
    {
      "cell_type": "code",
      "metadata": {
        "id": "qO94G_f_ir92",
        "colab_type": "code",
        "outputId": "0c0b03cd-296c-441f-9506-011359032850",
        "colab": {
          "base_uri": "https://localhost:8080/",
          "height": 34
        }
      },
      "source": [
        "sess=tf.Session()\n",
        "print(sess.run([node1,node2]))\n",
        "sess.close()"
      ],
      "execution_count": 0,
      "outputs": [
        {
          "output_type": "stream",
          "text": [
            "[3.0, 4.0]\n"
          ],
          "name": "stdout"
        }
      ]
    },
    {
      "cell_type": "code",
      "metadata": {
        "id": "4b1FWMeSjCgJ",
        "colab_type": "code",
        "colab": {}
      },
      "source": [
        "mul=node1*node2"
      ],
      "execution_count": 0,
      "outputs": []
    },
    {
      "cell_type": "code",
      "metadata": {
        "id": "bRkmhCB1jJTU",
        "colab_type": "code",
        "outputId": "7e9c2737-2ffe-4559-954d-f9c3de5cc0c9",
        "colab": {
          "base_uri": "https://localhost:8080/",
          "height": 34
        }
      },
      "source": [
        "mul"
      ],
      "execution_count": 0,
      "outputs": [
        {
          "output_type": "execute_result",
          "data": {
            "text/plain": [
              "<tf.Tensor 'mul:0' shape=() dtype=float32>"
            ]
          },
          "metadata": {
            "tags": []
          },
          "execution_count": 16
        }
      ]
    },
    {
      "cell_type": "code",
      "metadata": {
        "id": "jBE28FnbjKRh",
        "colab_type": "code",
        "outputId": "a3bde059-112c-44cf-df93-21749c5d5d7e",
        "colab": {
          "base_uri": "https://localhost:8080/",
          "height": 34
        }
      },
      "source": [
        "sess=tf.Session()\n",
        "print(sess.run(mul))\n",
        "sess.close()"
      ],
      "execution_count": 0,
      "outputs": [
        {
          "output_type": "stream",
          "text": [
            "12.0\n"
          ],
          "name": "stdout"
        }
      ]
    },
    {
      "cell_type": "markdown",
      "metadata": {
        "id": "vM6XNnQ-jhs_",
        "colab_type": "text"
      },
      "source": [
        "#Place Holder"
      ]
    },
    {
      "cell_type": "code",
      "metadata": {
        "id": "GDBAf-gCjROi",
        "colab_type": "code",
        "outputId": "28c1f859-de29-43cb-d345-42bda6c1989a",
        "colab": {
          "base_uri": "https://localhost:8080/",
          "height": 34
        }
      },
      "source": [
        "a=tf.placeholder(tf.float32)\n",
        "b=tf.placeholder(tf.float32)\n",
        "\n",
        "adder_node= a+b\n",
        "\n",
        "sess=tf.Session()\n",
        "print(sess.run( adder_node,feed_dict={a:[1,2,3],b:[4,5,6]}\n",
        "    \n",
        "))\n"
      ],
      "execution_count": 0,
      "outputs": [
        {
          "output_type": "stream",
          "text": [
            "[5. 7. 9.]\n"
          ],
          "name": "stdout"
        }
      ]
    },
    {
      "cell_type": "code",
      "metadata": {
        "id": "UYg32AZZkOTM",
        "colab_type": "code",
        "outputId": "1c1fca6c-ebcc-4c8c-a91b-4a619b20fc5d",
        "colab": {
          "base_uri": "https://localhost:8080/",
          "height": 34
        }
      },
      "source": [
        "mult=adder_node*5\n",
        "print(sess.run( mult,{a:[11,2,3],b:[4,5,6]}))\n",
        "sess.close()"
      ],
      "execution_count": 0,
      "outputs": [
        {
          "output_type": "stream",
          "text": [
            "[75. 35. 45.]\n"
          ],
          "name": "stdout"
        }
      ]
    },
    {
      "cell_type": "markdown",
      "metadata": {
        "id": "dc0wme_mk9J0",
        "colab_type": "text"
      },
      "source": [
        "#Variables"
      ]
    },
    {
      "cell_type": "code",
      "metadata": {
        "id": "h8CRgE0pkoXc",
        "colab_type": "code",
        "outputId": "1340d172-bb55-407d-9248-779f64d2749f",
        "colab": {
          "base_uri": "https://localhost:8080/",
          "height": 34
        }
      },
      "source": [
        "var1= tf.Variable([.5],tf.float32)\n",
        "init = tf.global_variables_initializer()\n",
        "sess=tf.Session()\n",
        "sess.run(init)\n",
        "print(sess.run(var1))"
      ],
      "execution_count": 0,
      "outputs": [
        {
          "output_type": "stream",
          "text": [
            "[0.5]\n"
          ],
          "name": "stdout"
        }
      ]
    },
    {
      "cell_type": "markdown",
      "metadata": {
        "id": "jbgxa9Vz3ubp",
        "colab_type": "text"
      },
      "source": [
        "# Implementing linear Model"
      ]
    },
    {
      "cell_type": "code",
      "metadata": {
        "id": "7Lpp_RjcqV7P",
        "colab_type": "code",
        "colab": {}
      },
      "source": [
        "#Weight\n",
        "w = tf.Variable([.3],tf.float32)\n",
        "#Bias\n",
        "b = tf.Variable([-.3]) \n",
        "\n",
        "#Input \n",
        "x=tf.placeholder(tf.float32)"
      ],
      "execution_count": 0,
      "outputs": []
    },
    {
      "cell_type": "code",
      "metadata": {
        "id": "tTrp2pj_5KMo",
        "colab_type": "code",
        "colab": {}
      },
      "source": [
        "linear_model= w*x + b"
      ],
      "execution_count": 0,
      "outputs": []
    },
    {
      "cell_type": "code",
      "metadata": {
        "id": "9OKxjnTb5lf4",
        "colab_type": "code",
        "colab": {}
      },
      "source": [
        "init = tf.global_variables_initializer()"
      ],
      "execution_count": 0,
      "outputs": []
    },
    {
      "cell_type": "code",
      "metadata": {
        "id": "OksULeF05q_A",
        "colab_type": "code",
        "colab": {}
      },
      "source": [
        "sess= tf.Session()"
      ],
      "execution_count": 0,
      "outputs": []
    },
    {
      "cell_type": "code",
      "metadata": {
        "id": "kCXdXdUd5uhT",
        "colab_type": "code",
        "colab": {}
      },
      "source": [
        "sess.run(init)"
      ],
      "execution_count": 0,
      "outputs": []
    },
    {
      "cell_type": "code",
      "metadata": {
        "id": "V-8ztEFz5xqW",
        "colab_type": "code",
        "outputId": "ab6ec359-9b63-49ed-d7cc-2d77c212aca8",
        "colab": {
          "base_uri": "https://localhost:8080/",
          "height": 34
        }
      },
      "source": [
        "print(sess.run(linear_model,{x:[1,2,3,4,5]}))"
      ],
      "execution_count": 0,
      "outputs": [
        {
          "output_type": "stream",
          "text": [
            "[0.         0.3        0.6        0.90000004 1.2       ]\n"
          ],
          "name": "stdout"
        }
      ]
    },
    {
      "cell_type": "code",
      "metadata": {
        "id": "81biVVgF57FU",
        "colab_type": "code",
        "outputId": "4f9f551c-e3b0-4e58-f223-02d9f6de8a7c",
        "colab": {
          "base_uri": "https://localhost:8080/",
          "height": 34
        }
      },
      "source": [
        "#Evaluate by loss funtion\n",
        "\n",
        "y = tf.placeholder(tf.float32)\n",
        "\n",
        "square_deviation = tf.square(linear_model - y)\n",
        "\n",
        "loss= tf.reduce_sum(square_deviation)\n",
        "\n",
        "print(sess.run(loss,{x:[1,2,3,4],y:[0,-1,-2,-3]}))"
      ],
      "execution_count": 0,
      "outputs": [
        {
          "output_type": "stream",
          "text": [
            "23.66\n"
          ],
          "name": "stdout"
        }
      ]
    },
    {
      "cell_type": "code",
      "metadata": {
        "id": "-sCU7IcD6nUh",
        "colab_type": "code",
        "outputId": "3bc2042b-40a2-4d8c-cca6-250e394d94bf",
        "colab": {
          "base_uri": "https://localhost:8080/",
          "height": 34
        }
      },
      "source": [
        "#Minimize error , reduce loss by Gradient decent\n",
        "\n",
        "optimizer = tf.train.GradientDescentOptimizer(0.01)\n",
        "\n",
        "train = optimizer.minimize(loss)\n",
        "\n",
        "sess.run(init)\n",
        "\n",
        "for i in range(1000):\n",
        "  sess.run(train,{x:[1,2,3,4],y:[0,-1,-2,-3]})\n",
        "\n",
        "print(sess.run([w,b]))"
      ],
      "execution_count": 0,
      "outputs": [
        {
          "output_type": "stream",
          "text": [
            "[array([-0.9999969], dtype=float32), array([0.9999908], dtype=float32)]\n"
          ],
          "name": "stdout"
        }
      ]
    },
    {
      "cell_type": "code",
      "metadata": {
        "id": "PzS92hrV9ZPR",
        "colab_type": "code",
        "colab": {}
      },
      "source": [
        ""
      ],
      "execution_count": 0,
      "outputs": []
    }
  ]
}